{
 "cells": [
  {
   "cell_type": "code",
   "execution_count": 24,
   "metadata": {
    "ExecuteTime": {
     "end_time": "2021-02-09T00:12:45.119485Z",
     "start_time": "2021-02-09T00:12:38.293241Z"
    }
   },
   "outputs": [
    {
     "name": "stderr",
     "output_type": "stream",
     "text": [
      "\n",
      "Bad key \"text.kerning_factor\" on line 4 in\n",
      "C:\\Users\\pedro\\anaconda3\\lib\\site-packages\\matplotlib\\mpl-data\\stylelib\\_classic_test_patch.mplstyle.\n",
      "You probably need to get an updated matplotlibrc file from\n",
      "https://github.com/matplotlib/matplotlib/blob/v3.1.3/matplotlibrc.template\n",
      "or from the matplotlib source distribution\n"
     ]
    }
   ],
   "source": [
    "import lifelines as lf\n",
    "import pandas as pd\n",
    "import numpy as np\n",
    "import matplotlib.pyplot as plt"
   ]
  },
  {
   "cell_type": "markdown",
   "metadata": {},
   "source": [
    "# LEITURA ARQUIVO EQUIPAMENTOS"
   ]
  },
  {
   "cell_type": "code",
   "execution_count": 14,
   "metadata": {
    "ExecuteTime": {
     "end_time": "2021-02-09T00:03:15.823520Z",
     "start_time": "2021-02-09T00:03:15.718105Z"
    }
   },
   "outputs": [],
   "source": [
    "caminho = r'C:/Users/pedro/Desktop/Curso Python/'\n",
    "arquivo = pd.read_csv(caminho + 'comparacao.csv', sep= ';')"
   ]
  },
  {
   "cell_type": "code",
   "execution_count": 15,
   "metadata": {
    "ExecuteTime": {
     "end_time": "2021-02-09T00:03:16.292360Z",
     "start_time": "2021-02-09T00:03:16.267469Z"
    }
   },
   "outputs": [
    {
     "data": {
      "text/html": [
       "<div>\n",
       "<style scoped>\n",
       "    .dataframe tbody tr th:only-of-type {\n",
       "        vertical-align: middle;\n",
       "    }\n",
       "\n",
       "    .dataframe tbody tr th {\n",
       "        vertical-align: top;\n",
       "    }\n",
       "\n",
       "    .dataframe thead th {\n",
       "        text-align: right;\n",
       "    }\n",
       "</style>\n",
       "<table border=\"1\" class=\"dataframe\">\n",
       "  <thead>\n",
       "    <tr style=\"text-align: right;\">\n",
       "      <th></th>\n",
       "      <th>DATA-INSTALACAO</th>\n",
       "      <th>DATA-RETIRADA</th>\n",
       "      <th>TIPO-LOCALIZACAO</th>\n",
       "      <th>ANO-FAB</th>\n",
       "      <th>DESC-REGIAO</th>\n",
       "      <th>VIDA-UTIL</th>\n",
       "      <th>FALHOU?</th>\n",
       "      <th>FALHOU?2</th>\n",
       "      <th>TECNOLOGIA</th>\n",
       "      <th>MODELO</th>\n",
       "    </tr>\n",
       "  </thead>\n",
       "  <tbody>\n",
       "    <tr>\n",
       "      <th>0</th>\n",
       "      <td>2011-10-05</td>\n",
       "      <td>2020-11-14</td>\n",
       "      <td>UB</td>\n",
       "      <td>2011</td>\n",
       "      <td>CENTRO</td>\n",
       "      <td>3328.0</td>\n",
       "      <td>C</td>\n",
       "      <td>0</td>\n",
       "      <td>ELETROMECANICO</td>\n",
       "      <td>A</td>\n",
       "    </tr>\n",
       "    <tr>\n",
       "      <th>1</th>\n",
       "      <td>2011-04-11</td>\n",
       "      <td>2020-08-05</td>\n",
       "      <td>UB</td>\n",
       "      <td>2011</td>\n",
       "      <td>CENTRO</td>\n",
       "      <td>3404.0</td>\n",
       "      <td>C</td>\n",
       "      <td>0</td>\n",
       "      <td>ELETROMECANICO</td>\n",
       "      <td>A</td>\n",
       "    </tr>\n",
       "    <tr>\n",
       "      <th>2</th>\n",
       "      <td>2016-04-28</td>\n",
       "      <td>2020-07-30</td>\n",
       "      <td>UB</td>\n",
       "      <td>2002</td>\n",
       "      <td>CENTRO</td>\n",
       "      <td>1554.0</td>\n",
       "      <td>C</td>\n",
       "      <td>0</td>\n",
       "      <td>ELETROMECANICO</td>\n",
       "      <td>A</td>\n",
       "    </tr>\n",
       "    <tr>\n",
       "      <th>3</th>\n",
       "      <td>2012-04-26</td>\n",
       "      <td>2020-07-27</td>\n",
       "      <td>UB</td>\n",
       "      <td>2012</td>\n",
       "      <td>CENTRO</td>\n",
       "      <td>3014.0</td>\n",
       "      <td>C</td>\n",
       "      <td>0</td>\n",
       "      <td>ELETROMECANICO</td>\n",
       "      <td>A</td>\n",
       "    </tr>\n",
       "    <tr>\n",
       "      <th>4</th>\n",
       "      <td>2012-04-23</td>\n",
       "      <td>2020-07-13</td>\n",
       "      <td>UB</td>\n",
       "      <td>2012</td>\n",
       "      <td>CENTRO</td>\n",
       "      <td>3003.0</td>\n",
       "      <td>C</td>\n",
       "      <td>0</td>\n",
       "      <td>ELETROMECANICO</td>\n",
       "      <td>A</td>\n",
       "    </tr>\n",
       "  </tbody>\n",
       "</table>\n",
       "</div>"
      ],
      "text/plain": [
       "  DATA-INSTALACAO DATA-RETIRADA TIPO-LOCALIZACAO  ANO-FAB DESC-REGIAO  \\\n",
       "0      2011-10-05    2020-11-14               UB     2011      CENTRO   \n",
       "1      2011-04-11    2020-08-05               UB     2011      CENTRO   \n",
       "2      2016-04-28    2020-07-30               UB     2002      CENTRO   \n",
       "3      2012-04-26    2020-07-27               UB     2012      CENTRO   \n",
       "4      2012-04-23    2020-07-13               UB     2012      CENTRO   \n",
       "\n",
       "   VIDA-UTIL FALHOU?  FALHOU?2      TECNOLOGIA MODELO  \n",
       "0     3328.0       C         0  ELETROMECANICO      A  \n",
       "1     3404.0       C         0  ELETROMECANICO      A  \n",
       "2     1554.0       C         0  ELETROMECANICO      A  \n",
       "3     3014.0       C         0  ELETROMECANICO      A  \n",
       "4     3003.0       C         0  ELETROMECANICO      A  "
      ]
     },
     "execution_count": 15,
     "metadata": {},
     "output_type": "execute_result"
    }
   ],
   "source": [
    "arquivo.head()"
   ]
  },
  {
   "cell_type": "markdown",
   "metadata": {},
   "source": [
    "- `DATA-INSTALACAO`: data em que o equipamento foi instalado\n",
    "- `DATA-RETIRADA`: data em que o equipamento foi retirado\n",
    "- `TIPO-LOCALIZACAO`: local em que o equipamento estava instalado (URBANO ou RURAL)\n",
    "- `ANO-FAB`: ano em que o equipamento foi fabricado\n",
    "- `DESC-REGIAO`: região fictícia do equipamento\n",
    "- `VIDA-UTIL`: tempo em que o equipamento permaneceu instalado, em DIAS\n",
    "- `FALHOU?`: equipamento falhou ou não. F -> FALHOU; C -> CENSURA\n",
    "- `FALHOU?2`: FALHOU -> 1; CENSURA -> 0\n",
    "- `TECNOLOGIA`: tipo do equipamento. ELETRONICO ou ELETROMECANICO\n",
    "- `MODELO`: modelo ficticio do equipamento"
   ]
  },
  {
   "cell_type": "markdown",
   "metadata": {},
   "source": [
    "# TRANSFORMAÇÃO"
   ]
  },
  {
   "cell_type": "code",
   "execution_count": 21,
   "metadata": {
    "ExecuteTime": {
     "end_time": "2021-02-09T00:06:15.579192Z",
     "start_time": "2021-02-09T00:06:15.542276Z"
    }
   },
   "outputs": [
    {
     "name": "stdout",
     "output_type": "stream",
     "text": [
      "<class 'pandas.core.frame.DataFrame'>\n",
      "RangeIndex: 65386 entries, 0 to 65385\n",
      "Data columns (total 10 columns):\n",
      " #   Column            Non-Null Count  Dtype \n",
      "---  ------            --------------  ----- \n",
      " 0   DATA-INSTALACAO   65386 non-null  object\n",
      " 1   DATA-RETIRADA     65386 non-null  object\n",
      " 2   TIPO-LOCALIZACAO  65386 non-null  object\n",
      " 3   ANO-FAB           65386 non-null  int64 \n",
      " 4   DESC-REGIAO       65386 non-null  object\n",
      " 5   VIDA-UTIL         65386 non-null  int32 \n",
      " 6   FALHOU?           65386 non-null  object\n",
      " 7   FALHOU?2          65386 non-null  int64 \n",
      " 8   TECNOLOGIA        65386 non-null  object\n",
      " 9   MODELO            65386 non-null  object\n",
      "dtypes: int32(1), int64(2), object(7)\n",
      "memory usage: 4.7+ MB\n"
     ]
    }
   ],
   "source": [
    "# Verificar se há algum item faltante\n",
    "\n",
    "arquivo.info()"
   ]
  },
  {
   "cell_type": "code",
   "execution_count": 18,
   "metadata": {
    "ExecuteTime": {
     "end_time": "2021-02-09T00:05:33.757415Z",
     "start_time": "2021-02-09T00:05:33.742177Z"
    }
   },
   "outputs": [],
   "source": [
    "# VIDA-UTIL está em dias. Transformaremos para ANOS\n",
    "\n",
    "arquivo['VIDA-UTIL'] = (arquivo['VIDA-UTIL']/365).astype(int)"
   ]
  },
  {
   "cell_type": "code",
   "execution_count": null,
   "metadata": {},
   "outputs": [],
   "source": []
  },
  {
   "cell_type": "markdown",
   "metadata": {},
   "source": [
    "# MODELO"
   ]
  },
  {
   "cell_type": "code",
   "execution_count": 25,
   "metadata": {
    "ExecuteTime": {
     "end_time": "2021-02-09T00:16:55.865089Z",
     "start_time": "2021-02-09T00:16:55.859143Z"
    }
   },
   "outputs": [],
   "source": [
    "# Criação do modelo de Kaplan-Meier\n",
    "\n",
    "km_fitter = lf.KaplanMeierFitter()"
   ]
  },
  {
   "cell_type": "code",
   "execution_count": 37,
   "metadata": {
    "ExecuteTime": {
     "end_time": "2021-02-09T00:27:04.083128Z",
     "start_time": "2021-02-09T00:27:03.308286Z"
    }
   },
   "outputs": [
    {
     "name": "stdout",
     "output_type": "stream",
     "text": [
      "O modelo A possui um tempo médio de vida de 12.0 anos\n",
      "\n",
      "\n",
      "O modelo B possui um tempo médio de vida de 10.0 anos\n",
      "\n",
      "\n",
      "O modelo C possui um tempo médio de vida de 16.0 anos\n",
      "\n",
      "\n",
      "O modelo D possui um tempo médio de vida de 6.0 anos\n",
      "\n",
      "\n"
     ]
    },
    {
     "data": {
      "image/png": "[encoded data removed]",
      "text/plain": [
       "<Figure size 1080x648 with 1 Axes>"
      ]
     },
     "metadata": {
      "needs_background": "light"
     },
     "output_type": "display_data"
    }
   ],
   "source": [
    "fig, axes = plt.subplots(1, 1, figsize=(15,9))\n",
    "for i in arquivo['MODELO'].unique():\n",
    "    tempo = arquivo['VIDA-UTIL'].loc[arquivo['MODELO'] == i]\n",
    "    evento = arquivo['FALHOU?2'].loc[arquivo['MODELO'] == i]\n",
    "    \n",
    "    km_fitter.fit(tempo, event_observed = evento, label = i)\n",
    "    km_fitter.survival_function_.plot(ax = axes)\n",
    "    axes.set_title('ESTIMADOR KAPLAN-MEIER',fontsize = 14)\n",
    "    axes.set_xlabel('ANOS', fontsize = 12)\n",
    "    axes.set_ylabel('% CHANCE DE SOBREVIVER', fontsize = 12)\n",
    "    \n",
    "    print('O modelo {} possui um tempo médio de vida de {} anos\\n\\n'.format(i,round(km_fitter.median_survival_time_,1)))\n",
    "axes.axhline(0.5, color = 'red', linestyle = '--')\n",
    "plt.show()"
   ]
  },
  {
   "cell_type": "code",
   "execution_count": null,
   "metadata": {},
   "outputs": [],
   "source": []
  }
 ],
 "metadata": {
  "kernelspec": {
   "display_name": "Python 3",
   "language": "python",
   "name": "python3"
  },
  "language_info": {
   "codemirror_mode": {
    "name": "ipython",
    "version": 3
   },
   "file_extension": ".py",
   "mimetype": "text/x-python",
   "name": "python",
   "nbconvert_exporter": "python",
   "pygments_lexer": "ipython3",
   "version": "3.7.6"
  }
 },
 "nbformat": 4,
 "nbformat_minor": 4
}
