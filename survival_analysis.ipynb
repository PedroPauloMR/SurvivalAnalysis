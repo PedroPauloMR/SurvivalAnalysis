{
 "cells": [
  {
   "cell_type": "markdown",
   "metadata": {},
   "source": [
    "# BIBLIOTECAS"
   ]
  },
  {
   "cell_type": "code",
   "execution_count": 3,
   "metadata": {
    "ExecuteTime": {
     "end_time": "2021-05-22T22:21:42.445341Z",
     "start_time": "2021-05-22T22:21:42.434371Z"
    }
   },
   "outputs": [],
   "source": [
    "# !pip install lifelines"
   ]
  },
  {
   "cell_type": "code",
   "execution_count": 4,
   "metadata": {
    "ExecuteTime": {
     "end_time": "2021-05-22T22:22:22.097439Z",
     "start_time": "2021-05-22T22:21:43.442673Z"
    }
   },
   "outputs": [
    {
     "name": "stderr",
     "output_type": "stream",
     "text": [
      "Matplotlib is building the font cache; this may take a moment.\n"
     ]
    }
   ],
   "source": [
    "import lifelines as lf\n",
    "import pandas as pd\n",
    "import numpy as np\n",
    "import matplotlib.pyplot as plt"
   ]
  },
  {
   "cell_type": "markdown",
   "metadata": {},
   "source": [
    "# LEITURA ARQUIVO EQUIPAMENTOS"
   ]
  },
  {
   "cell_type": "code",
   "execution_count": 6,
   "metadata": {
    "ExecuteTime": {
     "end_time": "2021-05-22T22:22:53.094364Z",
     "start_time": "2021-05-22T22:22:53.022595Z"
    }
   },
   "outputs": [],
   "source": [
    "arquivo = pd.read_csv( 'comparacao.csv', sep= ';')"
   ]
  },
  {
   "cell_type": "code",
   "execution_count": 7,
   "metadata": {
    "ExecuteTime": {
     "end_time": "2021-05-22T22:23:06.106831Z",
     "start_time": "2021-05-22T22:23:05.932270Z"
    }
   },
   "outputs": [
    {
     "data": {
      "text/html": [
       "<div>\n",
       "<style scoped>\n",
       "    .dataframe tbody tr th:only-of-type {\n",
       "        vertical-align: middle;\n",
       "    }\n",
       "\n",
       "    .dataframe tbody tr th {\n",
       "        vertical-align: top;\n",
       "    }\n",
       "\n",
       "    .dataframe thead th {\n",
       "        text-align: right;\n",
       "    }\n",
       "</style>\n",
       "<table border=\"1\" class=\"dataframe\">\n",
       "  <thead>\n",
       "    <tr style=\"text-align: right;\">\n",
       "      <th></th>\n",
       "      <th>DATA-INSTALACAO</th>\n",
       "      <th>DATA-RETIRADA</th>\n",
       "      <th>AREA-LOCAL</th>\n",
       "      <th>ANO-FAB</th>\n",
       "      <th>FALHOU?</th>\n",
       "      <th>TECNOLOGIA</th>\n",
       "      <th>MODELO</th>\n",
       "    </tr>\n",
       "  </thead>\n",
       "  <tbody>\n",
       "    <tr>\n",
       "      <th>0</th>\n",
       "      <td>05/10/2011</td>\n",
       "      <td>14/11/2020</td>\n",
       "      <td>UB</td>\n",
       "      <td>2011</td>\n",
       "      <td>NAO FALHOU</td>\n",
       "      <td>ELETROMECANICO</td>\n",
       "      <td>A</td>\n",
       "    </tr>\n",
       "    <tr>\n",
       "      <th>1</th>\n",
       "      <td>11/04/2011</td>\n",
       "      <td>05/08/2020</td>\n",
       "      <td>UB</td>\n",
       "      <td>2011</td>\n",
       "      <td>NAO FALHOU</td>\n",
       "      <td>ELETROMECANICO</td>\n",
       "      <td>A</td>\n",
       "    </tr>\n",
       "    <tr>\n",
       "      <th>2</th>\n",
       "      <td>28/04/2016</td>\n",
       "      <td>30/07/2020</td>\n",
       "      <td>UB</td>\n",
       "      <td>2002</td>\n",
       "      <td>NAO FALHOU</td>\n",
       "      <td>ELETROMECANICO</td>\n",
       "      <td>A</td>\n",
       "    </tr>\n",
       "    <tr>\n",
       "      <th>3</th>\n",
       "      <td>26/04/2012</td>\n",
       "      <td>27/07/2020</td>\n",
       "      <td>UB</td>\n",
       "      <td>2012</td>\n",
       "      <td>NAO FALHOU</td>\n",
       "      <td>ELETROMECANICO</td>\n",
       "      <td>A</td>\n",
       "    </tr>\n",
       "    <tr>\n",
       "      <th>4</th>\n",
       "      <td>23/04/2012</td>\n",
       "      <td>13/07/2020</td>\n",
       "      <td>UB</td>\n",
       "      <td>2012</td>\n",
       "      <td>NAO FALHOU</td>\n",
       "      <td>ELETROMECANICO</td>\n",
       "      <td>A</td>\n",
       "    </tr>\n",
       "  </tbody>\n",
       "</table>\n",
       "</div>"
      ],
      "text/plain": [
       "  DATA-INSTALACAO DATA-RETIRADA AREA-LOCAL  ANO-FAB     FALHOU?  \\\n",
       "0      05/10/2011    14/11/2020         UB     2011  NAO FALHOU   \n",
       "1      11/04/2011    05/08/2020         UB     2011  NAO FALHOU   \n",
       "2      28/04/2016    30/07/2020         UB     2002  NAO FALHOU   \n",
       "3      26/04/2012    27/07/2020         UB     2012  NAO FALHOU   \n",
       "4      23/04/2012    13/07/2020         UB     2012  NAO FALHOU   \n",
       "\n",
       "       TECNOLOGIA MODELO  \n",
       "0  ELETROMECANICO      A  \n",
       "1  ELETROMECANICO      A  \n",
       "2  ELETROMECANICO      A  \n",
       "3  ELETROMECANICO      A  \n",
       "4  ELETROMECANICO      A  "
      ]
     },
     "execution_count": 7,
     "metadata": {},
     "output_type": "execute_result"
    }
   ],
   "source": [
    "arquivo.head()"
   ]
  },
  {
   "cell_type": "markdown",
   "metadata": {},
   "source": [
    "- `DATA-INSTALACAO`: data em que o equipamento foi instalado\n",
    "- `DATA-RETIRADA`: data em que o equipamento foi retirado\n",
    "- `AREA-LOCAL`: local em que o equipamento estava instalado (URBANO ou RURAL)\n",
    "- `ANO-FAB`: ano em que o equipamento foi fabricado\n",
    "- `FALHOU?`: equipamento falhou ou não.\n",
    "- `TECNOLOGIA`: tipo do equipamento. ELETRONICO ou ELETROMECANICO\n",
    "- `MODELO`: modelo ficticio do equipamento"
   ]
  },
  {
   "cell_type": "markdown",
   "metadata": {},
   "source": [
    "# TRANSFORMAÇÃO"
   ]
  },
  {
   "cell_type": "code",
   "execution_count": 21,
   "metadata": {
    "ExecuteTime": {
     "end_time": "2021-02-09T00:06:15.579192Z",
     "start_time": "2021-02-09T00:06:15.542276Z"
    }
   },
   "outputs": [
    {
     "name": "stdout",
     "output_type": "stream",
     "text": [
      "<class 'pandas.core.frame.DataFrame'>\n",
      "RangeIndex: 65386 entries, 0 to 65385\n",
      "Data columns (total 10 columns):\n",
      " #   Column            Non-Null Count  Dtype \n",
      "---  ------            --------------  ----- \n",
      " 0   DATA-INSTALACAO   65386 non-null  object\n",
      " 1   DATA-RETIRADA     65386 non-null  object\n",
      " 2   TIPO-LOCALIZACAO  65386 non-null  object\n",
      " 3   ANO-FAB           65386 non-null  int64 \n",
      " 4   DESC-REGIAO       65386 non-null  object\n",
      " 5   VIDA-UTIL         65386 non-null  int32 \n",
      " 6   FALHOU?           65386 non-null  object\n",
      " 7   FALHOU?2          65386 non-null  int64 \n",
      " 8   TECNOLOGIA        65386 non-null  object\n",
      " 9   MODELO            65386 non-null  object\n",
      "dtypes: int32(1), int64(2), object(7)\n",
      "memory usage: 4.7+ MB\n"
     ]
    }
   ],
   "source": [
    "# Verificar se há algum item faltante\n",
    "\n",
    "arquivo.info()"
   ]
  },
  {
   "cell_type": "code",
   "execution_count": 16,
   "metadata": {
    "ExecuteTime": {
     "end_time": "2021-05-22T22:31:39.046528Z",
     "start_time": "2021-05-22T22:31:38.394481Z"
    }
   },
   "outputs": [],
   "source": [
    "# obter quantos dias o equipamento permaneceu em operação\n",
    "\n",
    "arquivo['DATA-RETIRADA'] = pd.to_datetime(arquivo['DATA-RETIRADA'])\n",
    "arquivo['DATA-INSTALACAO'] = pd.to_datetime(arquivo['DATA-INSTALACAO'])\n",
    "\n",
    "arquivo['VIDA-UTIL'] = (arquivo['DATA-RETIRADA']-arquivo['DATA-INSTALACAO'])/np.timedelta64(1,'D')\n",
    "\n",
    "arquivo['VIDA-UTIL'] = arquivo['VIDA-UTIL']/365"
   ]
  },
  {
   "cell_type": "code",
   "execution_count": 17,
   "metadata": {
    "ExecuteTime": {
     "end_time": "2021-05-22T22:31:40.483112Z",
     "start_time": "2021-05-22T22:31:40.471968Z"
    }
   },
   "outputs": [],
   "source": [
    "# transformar os dados da coluna FALHOU? em numérico\n",
    "# FALHA (FALHOU) = 1 / CENSURA (NAO FALHOU) = 0\n",
    "arquivo['FALHOU?2'] = 1\n",
    "arquivo.loc[arquivo['FALHOU?'] == 'NAO FALHOU', 'FALHOU?2'] = 0"
   ]
  },
  {
   "cell_type": "markdown",
   "metadata": {},
   "source": [
    "# MODELO"
   ]
  },
  {
   "cell_type": "code",
   "execution_count": 18,
   "metadata": {
    "ExecuteTime": {
     "end_time": "2021-05-22T22:31:41.587917Z",
     "start_time": "2021-05-22T22:31:41.579939Z"
    }
   },
   "outputs": [],
   "source": [
    "# Criação do modelo de Kaplan-Meier\n",
    "\n",
    "km_fitter = lf.KaplanMeierFitter()"
   ]
  },
  {
   "cell_type": "code",
   "execution_count": 22,
   "metadata": {
    "ExecuteTime": {
     "end_time": "2021-05-22T22:33:43.187490Z",
     "start_time": "2021-05-22T22:33:43.165507Z"
    }
   },
   "outputs": [
    {
     "data": {
      "text/plain": [
       "MODELO  TECNOLOGIA    \n",
       "A       ELETROMECANICO    48028\n",
       "D       ELETRONICO         7839\n",
       "C       ELETROMECANICO     5780\n",
       "B       ELETRONICO         3739\n",
       "dtype: int64"
      ]
     },
     "execution_count": 22,
     "metadata": {},
     "output_type": "execute_result"
    }
   ],
   "source": [
    "arquivo[['MODELO','TECNOLOGIA']].value_counts()"
   ]
  },
  {
   "cell_type": "code",
   "execution_count": 23,
   "metadata": {
    "ExecuteTime": {
     "end_time": "2021-05-22T22:33:59.001978Z",
     "start_time": "2021-05-22T22:33:58.672868Z"
    }
   },
   "outputs": [
    {
     "name": "stdout",
     "output_type": "stream",
     "text": [
      "O modelo A possui um tempo médio de vida de 12.3 anos\n",
      "\n",
      "\n",
      "O modelo B possui um tempo médio de vida de 9.5 anos\n",
      "\n",
      "\n",
      "O modelo C possui um tempo médio de vida de 15.9 anos\n",
      "\n",
      "\n",
      "O modelo D possui um tempo médio de vida de 5.1 anos\n",
      "\n",
      "\n"
     ]
    },
    {
     "data": {
      "image/png": "[encoded data removed]",
      "text/plain": [
       "<Figure size 1080x648 with 1 Axes>"
      ]
     },
     "metadata": {
      "needs_background": "light"
     },
     "output_type": "display_data"
    }
   ],
   "source": [
    "fig, axes = plt.subplots(1, 1, figsize=(15,9))\n",
    "for i in arquivo['MODELO'].unique():\n",
    "    tempo = arquivo['VIDA-UTIL'].loc[arquivo['MODELO'] == i]\n",
    "    evento = arquivo['FALHOU?2'].loc[arquivo['MODELO'] == i]\n",
    "    \n",
    "    km_fitter.fit(tempo, event_observed = evento, label = i)\n",
    "    km_fitter.survival_function_.plot(ax = axes)\n",
    "    axes.set_title('ESTIMADOR KAPLAN-MEIER',fontsize = 14)\n",
    "    axes.set_xlabel('ANOS', fontsize = 12)\n",
    "    axes.set_ylabel('% CHANCE DE SOBREVIVER', fontsize = 12)\n",
    "    \n",
    "    print('O modelo {} possui um tempo médio de vida de {} anos\\n\\n'.format(i,round(km_fitter.median_survival_time_,1)))\n",
    "axes.axhline(0.5, color = 'red', linestyle = '--')\n",
    "plt.show()"
   ]
  },
  {
   "cell_type": "code",
   "execution_count": null,
   "metadata": {},
   "outputs": [],
   "source": []
  }
 ],
 "metadata": {
  "kernelspec": {
   "display_name": "Python 3",
   "language": "python",
   "name": "python3"
  },
  "language_info": {
   "codemirror_mode": {
    "name": "ipython",
    "version": 3
   },
   "file_extension": ".py",
   "mimetype": "text/x-python",
   "name": "python",
   "nbconvert_exporter": "python",
   "pygments_lexer": "ipython3",
   "version": "3.8.5"
  }
 },
 "nbformat": 4,
 "nbformat_minor": 4
}
